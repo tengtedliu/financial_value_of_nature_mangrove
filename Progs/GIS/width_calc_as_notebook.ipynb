{
 "cells": [
  {
   "cell_type": "code",
   "execution_count": null,
   "metadata": {},
   "outputs": [],
   "source": [
    "import arcpy"
   ]
  },
  {
   "cell_type": "code",
   "execution_count": null,
   "metadata": {},
   "outputs": [],
   "source": [
    "#converting mangrove boundaries into points (generate points along line)\n",
    "arcpy.management.GeneratePointsAlongLines(\n",
    "    Input_Features=\"gmw_v3_2020_vec\",\n",
    "    Output_Feature_Class=r\"C:\\Users\\Administrator\\Documents\\ArcGIS\\Projects\\mangrove_width\\mangrove_distance_v2.gdb\\gmw_v3_2020_vec_GeneratePointsAlongLines\",\n",
    "    Point_Placement=\"DISTANCE\",\n",
    "    Distance=\"20 Meters\",\n",
    "    Percentage=None,\n",
    "    Include_End_Points=\"NO_END_POINTS\",\n",
    "    Add_Chainage_Fields=\"NO_CHAINAGE\"\n",
    ")"
   ]
  },
  {
   "cell_type": "code",
   "execution_count": null,
   "metadata": {},
   "outputs": [],
   "source": [
    "#importing zillow data into arcgis pro\n",
    "arcpy.management.XYTableToPoint(\n",
    "    in_table=\"all_mangrove_data_propertyfe.csv\",\n",
    "    out_feature_class=r\"C:\\Users\\Administrator\\Documents\\ArcGIS\\Projects\\mangrove_width\\mangrove_distance_v2.gdb\\propertyfe_id\",\n",
    "    x_field=\"longitude\",\n",
    "    y_field=\"latitude\",\n",
    "    z_field=None,\n",
    "    coordinate_system='GEOGCS[\"GCS_WGS_1984\",DATUM[\"D_WGS_1984\",SPHEROID[\"WGS_1984\",6378137.0,298.257223563]],PRIMEM[\"Greenwich\",0.0],UNIT[\"Degree\",0.0174532925199433]];-400 -400 1000000000;-100000 10000;-100000 10000;8.98315284119521E-09;0.001;0.001;IsHighPrecision'\n",
    ")"
   ]
  },
  {
   "cell_type": "code",
   "execution_count": null,
   "metadata": {},
   "outputs": [],
   "source": [
    "#calculate x,y of zillow housing data in a regional projection so I can do planar calculations later\n",
    "arcpy.management.CalculateGeometryAttributes(\n",
    "    in_features=\"propertyfe_id\",\n",
    "    geometry_property=\"x_house POINT_X;y_house POINT_Y\",\n",
    "    length_unit=\"\",\n",
    "    area_unit=\"\",\n",
    "    coordinate_system='PROJCS[\"NAD_1983_2011_Florida_GDL_Albers\",GEOGCS[\"GCS_NAD_1983_2011\",DATUM[\"D_NAD_1983_2011\",SPHEROID[\"GRS_1980\",6378137.0,298.257222101]],PRIMEM[\"Greenwich\",0.0],UNIT[\"Degree\",0.0174532925199433]],PROJECTION[\"Albers\"],PARAMETER[\"False_Easting\",400000.0],PARAMETER[\"False_Northing\",0.0],PARAMETER[\"Central_Meridian\",-84.0],PARAMETER[\"Standard_Parallel_1\",24.0],PARAMETER[\"Standard_Parallel_2\",31.5],PARAMETER[\"Latitude_Of_Origin\",24.0],UNIT[\"Meter\",1.0]]',\n",
    "    coordinate_format=\"SAME_AS_INPUT\"\n",
    ")"
   ]
  },
  {
   "cell_type": "code",
   "execution_count": null,
   "metadata": {},
   "outputs": [],
   "source": [
    "#finding closest mangrove point to each house\n",
    "arcpy.analysis.SpatialJoin(\n",
    "    target_features=\"propertyfe_id\",\n",
    "    join_features=\"gmw_v3_2020_vec_GeneratePointsAlongLines\",\n",
    "    out_feature_class=r\"C:\\Users\\Administrator\\Documents\\ArcGIS\\Projects\\mangrove_width\\mangrove_distance_v2.gdb\\propertyfe_id_mangrove_points\",\n",
    "    join_operation=\"JOIN_ONE_TO_ONE\",\n",
    "    join_type=\"KEEP_COMMON\",\n",
    "    field_mapping='Field1 \"Field1\" true true false 4 Long 0 0,First,#,propertyfe_id,Field1,-1,-1;transid \"transid\" true true false 4 Long 0 0,First,#,propertyfe_id,transid,-1,-1;latitude \"latitude\" true true false 8 Double 0 0,First,#,propertyfe_id,latitude,-1,-1;longitude \"longitude\" true true false 8 Double 0 0,First,#,propertyfe_id,longitude,-1,-1;house_id \"house_id\" true true false 8000 Text 0 0,First,#,propertyfe_id,house_id,0,8000;house_id_X \"house_id_X\" true true false 8 Double 0 0,First,#,propertyfe_id,house_id_X,-1,-1;house_id_Y \"house_id_Y\" true true false 8 Double 0 0,First,#,propertyfe_id,house_id_Y,-1,-1;x_house \"x_house\" true true false 8 Double 0 0,First,#,propertyfe_id,x_house,-1,-1;y_house \"y_house\" true true false 8 Double 0 0,First,#,propertyfe_id,y_house,-1,-1;ORIG_FID \"ORIG_FID\" true true false 4 Long 0 0,First,#,gmw_v3_2020_vec_GeneratePointsAlongLines,ORIG_FID,-1,-1;PXLVAL \"PXLVAL\" true true false 4 Long 0 0,First,#,gmw_v3_2020_vec_GeneratePointsAlongLines,PXLVAL,-1,-1;Shape_Length \"Shape_Length\" false true false 8 Double 0 0,First,#,gmw_v3_2020_vec_GeneratePointsAlongLines,Shape_Length,-1,-1;Shape_Area \"Shape_Area\" false true false 8 Double 0 0,First,#,gmw_v3_2020_vec_GeneratePointsAlongLines,Shape_Area,-1,-1;x_mangrove \"x_mangrove\" true true false 8 Double 0 0,First,#,gmw_v3_2020_vec_GeneratePointsAlongLines,x_mangrove,-1,-1;y_mangrove \"y_mangrove\" true true false 8 Double 0 0,First,#,gmw_v3_2020_vec_GeneratePointsAlongLines,y_mangrove,-1,-1',\n",
    "    match_option=\"CLOSEST_GEODESIC\",\n",
    "    search_radius=None,\n",
    "    distance_field_name=\"distance_geo\"\n",
    ")"
   ]
  },
  {
   "cell_type": "code",
   "execution_count": null,
   "metadata": {},
   "outputs": [],
   "source": [
    "#getting angle between house and mangrove point\n",
    "arcpy.management.CalculateField(\n",
    "    in_table=\"propertyfe_id_mangrove_points\",\n",
    "    field=\"theta\",\n",
    "    expression=\"getAngle(!x_house!,!y_house!,!x_mangrove!,!y_mangrove!)\",\n",
    "    expression_type=\"PYTHON3\",\n",
    "    code_block=\"\"\"import math\n",
    "def getAngle(x1,y1,x2,y2):\n",
    "    angle =  math.atan2(x2-x1,y2-y1) * 180/math.pi\n",
    "    if angle < 0:\n",
    "        return( 360+angle )\n",
    "    else :\n",
    "        return( angle )\"\"\",\n",
    "    field_type=\"TEXT\",\n",
    "    enforce_domains=\"NO_ENFORCE_DOMAINS\"\n",
    ")"
   ]
  },
  {
   "cell_type": "code",
   "execution_count": null,
   "metadata": {},
   "outputs": [],
   "source": [
    "#get a x-coordinate that is past the closest mangrove distance exactly 2,000 meters (it is the exact same angle as between house and mangrove point)\n",
    "arcpy.management.CalculateField(\n",
    "    in_table=\"propertyfe_id_mangrove_points\",\n",
    "    field=\"x_transect_terminus\",\n",
    "    expression=\"get_x_coordinate(!distance_geo!+2000, !theta!, 0, !x_mangrove!)\",\n",
    "    expression_type=\"PYTHON3\",\n",
    "    code_block=\"\"\"import math\n",
    "def get_x_coordinate (l, gamma, theta, x):\n",
    "    ''' convert gamma and theta to radians '''\n",
    "    arg = gamma + theta\n",
    "    return l * math.sin(arg*math.pi/180) + x\"\"\",\n",
    "    field_type=\"TEXT\",\n",
    "    enforce_domains=\"NO_ENFORCE_DOMAINS\"\n",
    ")"
   ]
  },
  {
   "cell_type": "code",
   "execution_count": null,
   "metadata": {},
   "outputs": [],
   "source": [
    "#get a y-coordinate that is past the closest mangrove distance exactly 2,000 meters (it is the exact same angle as between house and mangrove point)\n",
    "arcpy.management.CalculateField(\n",
    "    in_table=\"propertyfe_id_mangrove_points\",\n",
    "    field=\"y_transect_terminus\",\n",
    "    expression=\"get_y_coordinate(!distance_geo!+2000, !theta!, 0, !y_mangrove!)\",\n",
    "    expression_type=\"PYTHON3\",\n",
    "    code_block=\"\"\"import math\n",
    "def get_y_coordinate (l, gamma, theta, y):\n",
    "    ''' convert gamma and theta to radians '''\n",
    "    arg = gamma + theta\n",
    "    return l * math.cos(arg*math.pi/180) + y\"\"\",\n",
    "    field_type=\"TEXT\",\n",
    "    enforce_domains=\"NO_ENFORCE_DOMAINS\"\n",
    ")"
   ]
  },
  {
   "cell_type": "code",
   "execution_count": null,
   "metadata": {},
   "outputs": [],
   "source": [
    "#create a line between the house and the x,y point through and past the closest mangrove point\n",
    "arcpy.management.XYToLine(\n",
    "    in_table=\"propertyfe_id_mangrove_points\",\n",
    "    out_featureclass=r\"C:\\Users\\Administrator\\Documents\\ArcGIS\\Projects\\mangrove_width\\mangrove_distance_v2.gdb\\mangrove_transect_raw\",\n",
    "    startx_field=\"x_house\",\n",
    "    starty_field=\"y_house\",\n",
    "    endx_field=\"x_transect_terminus\",\n",
    "    endy_field=\"y_transect_terminus\",\n",
    "    line_type=\"PLANAR\",\n",
    "    id_field=\"house_id\",\n",
    "    spatial_reference='PROJCS[\"NAD_1983_2011_Florida_GDL_Albers\",GEOGCS[\"GCS_NAD_1983_2011\",DATUM[\"D_NAD_1983_2011\",SPHEROID[\"GRS_1980\",6378137.0,298.257222101]],PRIMEM[\"Greenwich\",0.0],UNIT[\"Degree\",0.0174532925199433]],PROJECTION[\"Albers\"],PARAMETER[\"False_Easting\",400000.0],PARAMETER[\"False_Northing\",0.0],PARAMETER[\"Central_Meridian\",-84.0],PARAMETER[\"Standard_Parallel_1\",24.0],PARAMETER[\"Standard_Parallel_2\",31.5],PARAMETER[\"Latitude_Of_Origin\",24.0],UNIT[\"Meter\",1.0]];-19550100 -7526400 10000;-100000 10000;-100000 10000;0.001;0.001;0.001;IsHighPrecision',\n",
    "    attributes=\"NO_ATTRIBUTES\"\n",
    ")"
   ]
  },
  {
   "cell_type": "code",
   "execution_count": null,
   "metadata": {},
   "outputs": [],
   "source": [
    "#clip the prior transect line so that we only get the line portions that intersect the global mangrove watch polygons\n",
    "with arcpy.EnvManager(parallelProcessingFactor=\"50%\"):\n",
    "    arcpy.analysis.PairwiseClip(\n",
    "        in_features=\"mangrove_transect_raw\",\n",
    "        clip_features=\"gmw_v3_2020_florida\",\n",
    "        out_feature_class=r\"C:\\Users\\Administrator\\Documents\\ArcGIS\\Projects\\mangrove_width\\mangrove_distance_v2.gdb\\mangrove_transect_intersect\",\n",
    "        cluster_tolerance=None\n",
    "    )"
   ]
  },
  {
   "cell_type": "code",
   "execution_count": null,
   "metadata": {},
   "outputs": [],
   "source": [
    "#get the number of pieces of each transect\n",
    "arcpy.management.CalculateGeometryAttributes(\n",
    "    in_features=\"mangrove_transect_intersect\",\n",
    "    geometry_property=\"parts PART_COUNT\",\n",
    "    length_unit=\"\",\n",
    "    area_unit=\"\",\n",
    "    coordinate_system=None,\n",
    "    coordinate_format=\"SAME_AS_INPUT\"\n",
    ")"
   ]
  },
  {
   "cell_type": "code",
   "execution_count": null,
   "metadata": {},
   "outputs": [],
   "source": [
    "#we only want those transect lines that have more than one part, because this means it fully intersected a mangrove and a gap, so that it's entire length is being measured\n",
    "arcpy.management.SelectLayerByAttribute(\n",
    "    in_layer_or_view=\"mangrove_transect_intersect\",\n",
    "    selection_type=\"NEW_SELECTION\",\n",
    "    where_clause=\"parts > 1\",\n",
    "    invert_where_clause=None\n",
    ")"
   ]
  },
  {
   "cell_type": "code",
   "execution_count": null,
   "metadata": {},
   "outputs": [],
   "source": [
    "#explode attributes\n",
    "#there is not arcpy code for this portion, you just select all the multipart features and in the edit ribbon you click explode, let it run for a while, and then save afterwards"
   ]
  },
  {
   "cell_type": "code",
   "execution_count": null,
   "metadata": {},
   "outputs": [],
   "source": [
    "#saving a copy of the exploded features for safe keeping\n",
    "arcpy.management.CopyFeatures(\n",
    "    in_features=\"mangrove_transect_intersect\",\n",
    "    out_feature_class=r\"C:\\Users\\Administrator\\Documents\\ArcGIS\\Projects\\mangrove_width\\mangrove_distance_v2.gdb\\mangrove_transect_intersect_exploded\",\n",
    "    config_keyword=\"\",\n",
    "    spatial_grid_1=None,\n",
    "    spatial_grid_2=None,\n",
    "    spatial_grid_3=None\n",
    ")"
   ]
  },
  {
   "cell_type": "code",
   "execution_count": null,
   "metadata": {},
   "outputs": [],
   "source": [
    "#getting planar length of all the transect parts\n",
    "arcpy.management.CalculateGeometryAttributes(\n",
    "    in_features=\"mangrove_transect_intersect_exploded\",\n",
    "    geometry_property=\"x_start LINE_START_X;y_start LINE_START_Y;x_end LINE_END_X;y_end LINE_END_Y\",\n",
    "    length_unit=\"METERS\",\n",
    "    area_unit=\"\",\n",
    "    coordinate_system='PROJCS[\"NAD_1983_2011_Florida_GDL_Albers\",GEOGCS[\"GCS_NAD_1983_2011\",DATUM[\"D_NAD_1983_2011\",SPHEROID[\"GRS_1980\",6378137.0,298.257222101]],PRIMEM[\"Greenwich\",0.0],UNIT[\"Degree\",0.0174532925199433]],PROJECTION[\"Albers\"],PARAMETER[\"False_Easting\",400000.0],PARAMETER[\"False_Northing\",0.0],PARAMETER[\"Central_Meridian\",-84.0],PARAMETER[\"Standard_Parallel_1\",24.0],PARAMETER[\"Standard_Parallel_2\",31.5],PARAMETER[\"Latitude_Of_Origin\",24.0],UNIT[\"Meter\",1.0]]',\n",
    "    coordinate_format=\"SAME_AS_INPUT\"\n",
    ")"
   ]
  },
  {
   "cell_type": "code",
   "execution_count": null,
   "metadata": {},
   "outputs": [],
   "source": [
    "#getting the geodesic distance for all the transect parts (in case your analysis calls for this)\n",
    "arcpy.management.CalculateGeometryAttributes(\n",
    "    in_features=\"mangrove_transect_intersect_exploded\",\n",
    "    geometry_property=\"mangrove_width_meters LENGTH_GEODESIC\",\n",
    "    length_unit=\"METERS\",\n",
    "    area_unit=\"\",\n",
    "    coordinate_system='PROJCS[\"NAD_1983_2011_Florida_GDL_Albers\",GEOGCS[\"GCS_NAD_1983_2011\",DATUM[\"D_NAD_1983_2011\",SPHEROID[\"GRS_1980\",6378137.0,298.257222101]],PRIMEM[\"Greenwich\",0.0],UNIT[\"Degree\",0.0174532925199433]],PROJECTION[\"Albers\"],PARAMETER[\"False_Easting\",400000.0],PARAMETER[\"False_Northing\",0.0],PARAMETER[\"Central_Meridian\",-84.0],PARAMETER[\"Standard_Parallel_1\",24.0],PARAMETER[\"Standard_Parallel_2\",31.5],PARAMETER[\"Latitude_Of_Origin\",24.0],UNIT[\"Meter\",1.0]]',\n",
    "    coordinate_format=\"SAME_AS_INPUT\"\n",
    ")"
   ]
  },
  {
   "cell_type": "code",
   "execution_count": null,
   "metadata": {},
   "outputs": [],
   "source": [
    "#exporting the data as a table for the final step in R\n",
    "arcpy.conversion.ExportTable(\n",
    "    in_table=\"mangrove_transect_intersect_exploded\",\n",
    "    out_table=r\"C:\\Users\\Administrator\\Documents\\ArcGIS\\Projects\\mangrove_width\\mangrove_width_v2\\mangrove_transect_intersect_all.csv\",\n",
    "    where_clause=\"\",\n",
    "    use_field_alias_as_name=\"NOT_USE_ALIAS\",\n",
    "    field_mapping='x_house \"x_house\" true true false 8 Double 0 0,First,#,mangrove_transect_intersect_exploded,x_house,-1,-1;y_house \"y_house\" true true false 8 Double 0 0,First,#,mangrove_transect_intersect_exploded,y_house,-1,-1;x_transect_terminus \"x_transect_terminus\" true true false 8 Double 0 0,First,#,mangrove_transect_intersect_exploded,x_transect_terminus,-1,-1;y_transect_terminus \"y_transect_terminus\" true true false 8 Double 0 0,First,#,mangrove_transect_intersect_exploded,y_transect_terminus,-1,-1;house_id \"house_id\" true true false 8000 Text 0 0,First,#,mangrove_transect_intersect_exploded,house_id,0,8000;parts \"parts\" true true false 4 Long 0 0,First,#,mangrove_transect_intersect_exploded,parts,-1,-1;Shape_Length \"Shape_Length\" false true true 8 Double 0 0,First,#,mangrove_transect_intersect_exploded,Shape_Length,-1,-1;x_start \"x_start\" true true false 8 Double 0 0,First,#,mangrove_transect_intersect_exploded,x_start,-1,-1;y_start \"y_start\" true true false 8 Double 0 0,First,#,mangrove_transect_intersect_exploded,y_start,-1,-1;x_end \"x_end\" true true false 8 Double 0 0,First,#,mangrove_transect_intersect_exploded,x_end,-1,-1;y_end \"y_end\" true true false 8 Double 0 0,First,#,mangrove_transect_intersect_exploded,y_end,-1,-1',\n",
    "    sort_field=None\n",
    ")"
   ]
  },
  {
   "cell_type": "code",
   "execution_count": null,
   "metadata": {},
   "outputs": [],
   "source": [
    "#the next part of the code is done in R where you get the distance between each of the line's start and end points and each house it's associated with and then you only keep the one that is closest.\n",
    "#right now we have many pieces for each home and we only need the closest one"
   ]
  }
 ],
 "metadata": {
  "kernelspec": {
   "display_name": "ArcGISPro",
   "language": "Python",
   "name": "python3"
  },
  "language_info": {
   "file_extension": ".py",
   "name": "python",
   "version": "3"
  }
 },
 "nbformat": 4,
 "nbformat_minor": 2
}
